{
 "cells": [
  {
   "cell_type": "markdown",
   "metadata": {
    "pycharm": {
     "name": "#%% md\n"
    }
   },
   "source": [
    "### Импортируем библиотеки"
   ]
  },
  {
   "cell_type": "code",
   "execution_count": 1,
   "metadata": {
    "pycharm": {
     "name": "#%%\n"
    }
   },
   "outputs": [],
   "source": [
    "import math\n",
    "import numpy as np\n",
    "import pandas as pd\n",
    "from sklearn.datasets import fetch_openml\n",
    "from typing import Callable, Optional\n",
    "from tqdm.notebook import tqdm\n",
    "from matplotlib import pyplot as plt\n",
    "from tqdm import tqdm"
   ]
  },
  {
   "cell_type": "markdown",
   "metadata": {
    "pycharm": {
     "name": "#%% md\n"
    }
   },
   "source": [
    "### Загружаем датасет"
   ]
  },
  {
   "cell_type": "code",
   "execution_count": 2,
   "metadata": {
    "pycharm": {
     "name": "#%%\n"
    }
   },
   "outputs": [
    {
     "data": {
      "text/html": [
       "<div>\n",
       "<style scoped>\n",
       "    .dataframe tbody tr th:only-of-type {\n",
       "        vertical-align: middle;\n",
       "    }\n",
       "\n",
       "    .dataframe tbody tr th {\n",
       "        vertical-align: top;\n",
       "    }\n",
       "\n",
       "    .dataframe thead th {\n",
       "        text-align: right;\n",
       "    }\n",
       "</style>\n",
       "<table border=\"1\" class=\"dataframe\">\n",
       "  <thead>\n",
       "    <tr style=\"text-align: right;\">\n",
       "      <th></th>\n",
       "      <th>buying</th>\n",
       "      <th>maint</th>\n",
       "      <th>doors</th>\n",
       "      <th>persons</th>\n",
       "      <th>lug_boot</th>\n",
       "      <th>safety</th>\n",
       "    </tr>\n",
       "  </thead>\n",
       "  <tbody>\n",
       "    <tr>\n",
       "      <th>0</th>\n",
       "      <td>vhigh</td>\n",
       "      <td>vhigh</td>\n",
       "      <td>2</td>\n",
       "      <td>2</td>\n",
       "      <td>small</td>\n",
       "      <td>low</td>\n",
       "    </tr>\n",
       "    <tr>\n",
       "      <th>1</th>\n",
       "      <td>vhigh</td>\n",
       "      <td>vhigh</td>\n",
       "      <td>2</td>\n",
       "      <td>2</td>\n",
       "      <td>small</td>\n",
       "      <td>med</td>\n",
       "    </tr>\n",
       "    <tr>\n",
       "      <th>2</th>\n",
       "      <td>vhigh</td>\n",
       "      <td>vhigh</td>\n",
       "      <td>2</td>\n",
       "      <td>2</td>\n",
       "      <td>small</td>\n",
       "      <td>high</td>\n",
       "    </tr>\n",
       "    <tr>\n",
       "      <th>3</th>\n",
       "      <td>vhigh</td>\n",
       "      <td>vhigh</td>\n",
       "      <td>2</td>\n",
       "      <td>2</td>\n",
       "      <td>med</td>\n",
       "      <td>low</td>\n",
       "    </tr>\n",
       "    <tr>\n",
       "      <th>4</th>\n",
       "      <td>vhigh</td>\n",
       "      <td>vhigh</td>\n",
       "      <td>2</td>\n",
       "      <td>2</td>\n",
       "      <td>med</td>\n",
       "      <td>med</td>\n",
       "    </tr>\n",
       "  </tbody>\n",
       "</table>\n",
       "</div>"
      ],
      "text/plain": [
       "  buying  maint doors persons lug_boot safety\n",
       "0  vhigh  vhigh     2       2    small    low\n",
       "1  vhigh  vhigh     2       2    small    med\n",
       "2  vhigh  vhigh     2       2    small   high\n",
       "3  vhigh  vhigh     2       2      med    low\n",
       "4  vhigh  vhigh     2       2      med    med"
      ]
     },
     "execution_count": 2,
     "metadata": {},
     "output_type": "execute_result"
    }
   ],
   "source": [
    "#на выбор дано 5 датасетов, выбираем первый датасет car\n",
    "\n",
    "raw_dataset = pd.read_csv('car.csv', sep=';') \n",
    "raw_data = raw_dataset.copy()\n",
    "raw_data = raw_data.drop(columns = ['class'],axis = 1) #удаляем целевую переменную\n",
    "raw_data.head()"
   ]
  },
  {
   "cell_type": "markdown",
   "metadata": {
    "pycharm": {
     "name": "#%% md\n"
    }
   },
   "source": [
    "### normalize data"
   ]
  },
  {
   "cell_type": "code",
   "execution_count": 3,
   "metadata": {
    "pycharm": {
     "name": "#%%\n"
    }
   },
   "outputs": [
    {
     "data": {
      "text/html": [
       "<div>\n",
       "<style scoped>\n",
       "    .dataframe tbody tr th:only-of-type {\n",
       "        vertical-align: middle;\n",
       "    }\n",
       "\n",
       "    .dataframe tbody tr th {\n",
       "        vertical-align: top;\n",
       "    }\n",
       "\n",
       "    .dataframe thead th {\n",
       "        text-align: right;\n",
       "    }\n",
       "</style>\n",
       "<table border=\"1\" class=\"dataframe\">\n",
       "  <thead>\n",
       "    <tr style=\"text-align: right;\">\n",
       "      <th></th>\n",
       "      <th>buying</th>\n",
       "      <th>maint</th>\n",
       "      <th>doors</th>\n",
       "      <th>persons</th>\n",
       "      <th>lug_boot</th>\n",
       "      <th>safety</th>\n",
       "    </tr>\n",
       "  </thead>\n",
       "  <tbody>\n",
       "    <tr>\n",
       "      <th>0</th>\n",
       "      <td>0.0</td>\n",
       "      <td>0.0</td>\n",
       "      <td>0.0</td>\n",
       "      <td>0.0</td>\n",
       "      <td>0.0</td>\n",
       "      <td>0.0</td>\n",
       "    </tr>\n",
       "    <tr>\n",
       "      <th>1</th>\n",
       "      <td>0.0</td>\n",
       "      <td>0.0</td>\n",
       "      <td>0.0</td>\n",
       "      <td>0.0</td>\n",
       "      <td>0.0</td>\n",
       "      <td>0.5</td>\n",
       "    </tr>\n",
       "    <tr>\n",
       "      <th>2</th>\n",
       "      <td>0.0</td>\n",
       "      <td>0.0</td>\n",
       "      <td>0.0</td>\n",
       "      <td>0.0</td>\n",
       "      <td>0.0</td>\n",
       "      <td>1.0</td>\n",
       "    </tr>\n",
       "    <tr>\n",
       "      <th>3</th>\n",
       "      <td>0.0</td>\n",
       "      <td>0.0</td>\n",
       "      <td>0.0</td>\n",
       "      <td>0.0</td>\n",
       "      <td>0.5</td>\n",
       "      <td>0.0</td>\n",
       "    </tr>\n",
       "    <tr>\n",
       "      <th>4</th>\n",
       "      <td>0.0</td>\n",
       "      <td>0.0</td>\n",
       "      <td>0.0</td>\n",
       "      <td>0.0</td>\n",
       "      <td>0.5</td>\n",
       "      <td>0.5</td>\n",
       "    </tr>\n",
       "    <tr>\n",
       "      <th>...</th>\n",
       "      <td>...</td>\n",
       "      <td>...</td>\n",
       "      <td>...</td>\n",
       "      <td>...</td>\n",
       "      <td>...</td>\n",
       "      <td>...</td>\n",
       "    </tr>\n",
       "    <tr>\n",
       "      <th>1723</th>\n",
       "      <td>1.0</td>\n",
       "      <td>1.0</td>\n",
       "      <td>1.0</td>\n",
       "      <td>1.0</td>\n",
       "      <td>0.5</td>\n",
       "      <td>0.5</td>\n",
       "    </tr>\n",
       "    <tr>\n",
       "      <th>1724</th>\n",
       "      <td>1.0</td>\n",
       "      <td>1.0</td>\n",
       "      <td>1.0</td>\n",
       "      <td>1.0</td>\n",
       "      <td>0.5</td>\n",
       "      <td>1.0</td>\n",
       "    </tr>\n",
       "    <tr>\n",
       "      <th>1725</th>\n",
       "      <td>1.0</td>\n",
       "      <td>1.0</td>\n",
       "      <td>1.0</td>\n",
       "      <td>1.0</td>\n",
       "      <td>1.0</td>\n",
       "      <td>0.0</td>\n",
       "    </tr>\n",
       "    <tr>\n",
       "      <th>1726</th>\n",
       "      <td>1.0</td>\n",
       "      <td>1.0</td>\n",
       "      <td>1.0</td>\n",
       "      <td>1.0</td>\n",
       "      <td>1.0</td>\n",
       "      <td>0.5</td>\n",
       "    </tr>\n",
       "    <tr>\n",
       "      <th>1727</th>\n",
       "      <td>1.0</td>\n",
       "      <td>1.0</td>\n",
       "      <td>1.0</td>\n",
       "      <td>1.0</td>\n",
       "      <td>1.0</td>\n",
       "      <td>1.0</td>\n",
       "    </tr>\n",
       "  </tbody>\n",
       "</table>\n",
       "<p>1728 rows × 6 columns</p>\n",
       "</div>"
      ],
      "text/plain": [
       "      buying  maint  doors  persons  lug_boot  safety\n",
       "0        0.0    0.0    0.0      0.0       0.0     0.0\n",
       "1        0.0    0.0    0.0      0.0       0.0     0.5\n",
       "2        0.0    0.0    0.0      0.0       0.0     1.0\n",
       "3        0.0    0.0    0.0      0.0       0.5     0.0\n",
       "4        0.0    0.0    0.0      0.0       0.5     0.5\n",
       "...      ...    ...    ...      ...       ...     ...\n",
       "1723     1.0    1.0    1.0      1.0       0.5     0.5\n",
       "1724     1.0    1.0    1.0      1.0       0.5     1.0\n",
       "1725     1.0    1.0    1.0      1.0       1.0     0.0\n",
       "1726     1.0    1.0    1.0      1.0       1.0     0.5\n",
       "1727     1.0    1.0    1.0      1.0       1.0     1.0\n",
       "\n",
       "[1728 rows x 6 columns]"
      ]
     },
     "execution_count": 3,
     "metadata": {},
     "output_type": "execute_result"
    }
   ],
   "source": [
    "# preprocessing берем уникальные значения столбца, а затем создаем словарь значение элемента - номер \n",
    "def f(row):\n",
    "    unique_values = row.unique()\n",
    "    values_dict = dict()\n",
    "    for cnt, val in enumerate(unique_values):\n",
    "        values_dict[val] = cnt\n",
    "    \n",
    "    \n",
    "    # vectorisation, приводим числа к типу float\n",
    "    row = row.apply(lambda v: values_dict[v]).astype('float')\n",
    "\n",
    "    # min max scaling техника преобразования значений признака (Feature), \n",
    "    #масштабирующая значения таким образом, что они располагаются в диапазоне от 0 до 1\n",
    "    #Цель такого преобразования – изменить значения числовых столбцов в наборе данных так, \n",
    "    #чтобы сохранить различия их диапазонов. требует нормализации, когда признаки имеют разные диапазоны и \n",
    "    #тем самым способствуют искажению восприятия взаимоотношений между предикторами и Целевой переменной \n",
    "    min_val, max_val = row.min(), row.max()\n",
    "    row = row.apply(lambda v: (v - min_val) / (max_val - min_val))\n",
    "\n",
    "    return row\n",
    "\n",
    "data = raw_data.apply(f) #применяем к нашему датасету и выводим\n",
    "data"
   ]
  },
  {
   "cell_type": "code",
   "execution_count": 4,
   "metadata": {
    "pycharm": {
     "name": "#%%\n"
    }
   },
   "outputs": [
    {
     "data": {
      "text/html": [
       "<div>\n",
       "<style scoped>\n",
       "    .dataframe tbody tr th:only-of-type {\n",
       "        vertical-align: middle;\n",
       "    }\n",
       "\n",
       "    .dataframe tbody tr th {\n",
       "        vertical-align: top;\n",
       "    }\n",
       "\n",
       "    .dataframe thead th {\n",
       "        text-align: right;\n",
       "    }\n",
       "</style>\n",
       "<table border=\"1\" class=\"dataframe\">\n",
       "  <thead>\n",
       "    <tr style=\"text-align: right;\">\n",
       "      <th></th>\n",
       "      <th>unacc</th>\n",
       "      <th>acc</th>\n",
       "      <th>vgood</th>\n",
       "      <th>good</th>\n",
       "    </tr>\n",
       "  </thead>\n",
       "  <tbody>\n",
       "    <tr>\n",
       "      <th>0</th>\n",
       "      <td>1</td>\n",
       "      <td>0</td>\n",
       "      <td>0</td>\n",
       "      <td>0</td>\n",
       "    </tr>\n",
       "    <tr>\n",
       "      <th>1</th>\n",
       "      <td>1</td>\n",
       "      <td>0</td>\n",
       "      <td>0</td>\n",
       "      <td>0</td>\n",
       "    </tr>\n",
       "    <tr>\n",
       "      <th>2</th>\n",
       "      <td>1</td>\n",
       "      <td>0</td>\n",
       "      <td>0</td>\n",
       "      <td>0</td>\n",
       "    </tr>\n",
       "    <tr>\n",
       "      <th>3</th>\n",
       "      <td>1</td>\n",
       "      <td>0</td>\n",
       "      <td>0</td>\n",
       "      <td>0</td>\n",
       "    </tr>\n",
       "    <tr>\n",
       "      <th>4</th>\n",
       "      <td>1</td>\n",
       "      <td>0</td>\n",
       "      <td>0</td>\n",
       "      <td>0</td>\n",
       "    </tr>\n",
       "    <tr>\n",
       "      <th>...</th>\n",
       "      <td>...</td>\n",
       "      <td>...</td>\n",
       "      <td>...</td>\n",
       "      <td>...</td>\n",
       "    </tr>\n",
       "    <tr>\n",
       "      <th>1723</th>\n",
       "      <td>0</td>\n",
       "      <td>0</td>\n",
       "      <td>0</td>\n",
       "      <td>1</td>\n",
       "    </tr>\n",
       "    <tr>\n",
       "      <th>1724</th>\n",
       "      <td>0</td>\n",
       "      <td>0</td>\n",
       "      <td>1</td>\n",
       "      <td>0</td>\n",
       "    </tr>\n",
       "    <tr>\n",
       "      <th>1725</th>\n",
       "      <td>1</td>\n",
       "      <td>0</td>\n",
       "      <td>0</td>\n",
       "      <td>0</td>\n",
       "    </tr>\n",
       "    <tr>\n",
       "      <th>1726</th>\n",
       "      <td>0</td>\n",
       "      <td>0</td>\n",
       "      <td>0</td>\n",
       "      <td>1</td>\n",
       "    </tr>\n",
       "    <tr>\n",
       "      <th>1727</th>\n",
       "      <td>0</td>\n",
       "      <td>0</td>\n",
       "      <td>1</td>\n",
       "      <td>0</td>\n",
       "    </tr>\n",
       "  </tbody>\n",
       "</table>\n",
       "<p>1728 rows × 4 columns</p>\n",
       "</div>"
      ],
      "text/plain": [
       "      unacc  acc  vgood  good\n",
       "0         1    0      0     0\n",
       "1         1    0      0     0\n",
       "2         1    0      0     0\n",
       "3         1    0      0     0\n",
       "4         1    0      0     0\n",
       "...     ...  ...    ...   ...\n",
       "1723      0    0      0     1\n",
       "1724      0    0      1     0\n",
       "1725      1    0      0     0\n",
       "1726      0    0      0     1\n",
       "1727      0    0      1     0\n",
       "\n",
       "[1728 rows x 4 columns]"
      ]
     },
     "execution_count": 4,
     "metadata": {},
     "output_type": "execute_result"
    }
   ],
   "source": [
    "# one-hot  процесс, с помощью которого категориальные переменные преобразуются\n",
    "#в подходящую алгоритмам Машинного обучения (ML) форму. \n",
    "target = raw_dataset['class']\n",
    "classes = target.unique()\n",
    "target_df = pd.DataFrame()\n",
    "for c in classes:\n",
    "    target_df[c] = target.apply(lambda x: int(x == c)).astype('int')\n",
    "target_df"
   ]
  },
  {
   "cell_type": "markdown",
   "metadata": {
    "pycharm": {
     "name": "#%% md\n"
    }
   },
   "source": [
    "### algorithm"
   ]
  },
  {
   "cell_type": "code",
   "execution_count": 5,
   "metadata": {
    "pycharm": {
     "name": "#%%\n"
    }
   },
   "outputs": [],
   "source": [
    "#создаем класс knn хранящий в себе алгоритм knn. Суть: объект относится к тому классу, \n",
    "#которому принадлежит большинство из его соседей — k ближайших к нему объектов обучающей выборки\n",
    "\n",
    "class KNN:\n",
    "    def __init__(\n",
    "            self,\n",
    "            train_x: pd.DataFrame,\n",
    "            train_y: pd.DataFrame,\n",
    "            ker: Callable[[float], float],\n",
    "            dist_f: Callable[[np.ndarray, np.ndarray], float],\n",
    "            window_h: Optional[float] = None,\n",
    "            window_k: Optional[int] = None\n",
    "    ):\n",
    "        self.train_x = train_x.to_numpy()\n",
    "        self.train_y = train_y.to_numpy()\n",
    "        self.ker = ker\n",
    "        self.dist_f = dist_f\n",
    "        self.window_h = window_h\n",
    "        self.window_k = window_k\n",
    "\n",
    "    def fit_predict(self, x):\n",
    "        numerator, denominator = np.zeros(self.train_y.shape[1]), 0\n",
    "\n",
    "        dist_x = np.asarray(list(map(lambda xi: self.dist_f(x, xi), self.train_x)))\n",
    "        bound = self.window_h if self.window_h else np.partition(dist_x, self.window_k)[self.window_k]\n",
    "        valuable_ind = list(filter(lambda i: dist_x[i] < bound, range(len(dist_x))))\n",
    "\n",
    "        if len(valuable_ind) == 0:\n",
    "            return np.average(y_train)\n",
    "\n",
    "        for i in valuable_ind:\n",
    "            w = self.ker(dist_x[i] / bound)\n",
    "            numerator += self.train_y[i] * w\n",
    "            denominator += w\n",
    "\n",
    "        return numerator / denominator"
   ]
  },
  {
   "cell_type": "markdown",
   "metadata": {
    "pycharm": {
     "name": "#%% md\n"
    }
   },
   "source": [
    "### hyperparameters"
   ]
  },
  {
   "cell_type": "code",
   "execution_count": 6,
   "metadata": {
    "pycharm": {
     "name": "#%%\n"
    }
   },
   "outputs": [],
   "source": [
    "# distances по заданию считаем функции расстояний: расстояние Евклида, расстояние Манхэттена, расстояние Чебышева\n",
    "# для поиска лучшей комбинации гиперпараметров\n",
    "def euclidean(p1, p2):\n",
    "    return np.sqrt(np.sum((p1 - p2)**2))\n",
    "\n",
    "def manhattan(p1, p2):\n",
    "    return sum(np.abs(p1 - p2))\n",
    "\n",
    "def chebyshev(p1, p2):\n",
    "    return max(np.abs(p1 - p2))\n",
    "\n",
    "# kernel functions считаем функции ядра по условию и данным в задании формулам\n",
    "def uniform(u):\n",
    "    return 1/2\n",
    "\n",
    "def triangular(u):\n",
    "    return 1 - abs(u)\n",
    "\n",
    "def epanechnikov(u):\n",
    "    return 3/4 * (1 - u**2)\n",
    "\n",
    "def quartic(u):\n",
    "    return 15/16 * (1 - u**2)**2\n",
    "\n",
    "# window также с учетом условия лабы поиск окна\n",
    "sqrt_len = math.sqrt(len(data))\n",
    "k_range = range(int(sqrt_len))\n",
    "\n",
    "def get_h_range(dist_f: Callable[[np.ndarray, np.ndarray], float]) -> np.ndarray:\n",
    "    min_dist, max_dist = None, None\n",
    "    m = data.to_numpy()\n",
    "\n",
    "    for i1 in range(len(data)):\n",
    "        for i2 in range(i1):\n",
    "            dist1 = dist_f(m[i1], m[i2])\n",
    "            if max_dist is None or dist1 > max_dist:\n",
    "                max_dist = dist1\n",
    "            if min_dist is None or dist1 < min_dist:\n",
    "                min_dist = dist1\n",
    "\n",
    "    step = max_dist / sqrt_len\n",
    "    return np.arange(max(step, min_dist), max_dist + step/2, step)"
   ]
  },
  {
   "cell_type": "markdown",
   "metadata": {
    "pycharm": {
     "name": "#%% md\n"
    }
   },
   "source": [
    "### F-score"
   ]
  },
  {
   "cell_type": "code",
   "execution_count": 7,
   "metadata": {
    "pycharm": {
     "name": "#%%\n"
    }
   },
   "outputs": [],
   "source": [
    "#считаем метрику F-score по формуле\n",
    "\n",
    "def f_score(y_test: np.ndarray, y_pred: np.ndarray, b: int = 1) -> float:\n",
    "    test_ind = np.argmax(y_test)  # actual class\n",
    "    pred_ind = np.argmax(y_pred)  # predicted class\n",
    "    s = 0\n",
    "    for i in range(len(y_test)):  # f_score for class i\n",
    "        true_positive = int(i == test_ind == pred_ind)\n",
    "        false_positive = int((test_ind != i) and (pred_ind == i))\n",
    "        true_negative = int((test_ind == i) and (pred_ind != i))\n",
    "        false_negative = int((test_ind != i) and (pred_ind != i))\n",
    "\n",
    "        if true_positive + false_positive == 0 or true_positive + false_negative == 0:\n",
    "            continue\n",
    "\n",
    "        precision = true_positive / (true_positive + false_positive)\n",
    "        recall = true_positive / (true_positive + false_negative)\n",
    "\n",
    "        if precision == recall == 0:\n",
    "            continue\n",
    "        s += (1 + b**2) * precision * recall / ((b**2 * precision) + recall)\n",
    "    return s / len(y_test)"
   ]
  },
  {
   "cell_type": "markdown",
   "metadata": {
    "pycharm": {
     "name": "#%% md\n"
    }
   },
   "source": [
    "### leave-one-out"
   ]
  },
  {
   "cell_type": "code",
   "execution_count": 8,
   "metadata": {
    "pycharm": {
     "name": "#%%\n"
    }
   },
   "outputs": [],
   "source": [
    "#Leave-One-Out перекрёстная проверка для настройки алгоритма.\n",
    "#Kаждый объект ровно один раз участвует в контроле, а длина обучающих подвыборок лишь на единицу \n",
    "#меньше длины полной выборки. Однако требуется большая ресурсоёмкость\n",
    "def find_best_params():\n",
    "    score = 0\n",
    "    best_params = [None, None, None]\n",
    "\n",
    "    for dist_f in [euclidean, manhattan, chebyshev]:\n",
    "        for ker in [uniform, triangular, epanechnikov, quartic]:\n",
    "            for window_h in get_h_range(dist_f):\n",
    "                print(\"Testing: \", dist_f.__name__, ker.__name__, f\"H{window_h}\")\n",
    "\n",
    "                f = 0\n",
    "                for i in tqdm(range(len(data))):\n",
    "                    x_train, x_test = data.drop(i), data.iloc[i].to_numpy()\n",
    "                    y_train, y_test = target_df.drop(i), target_df.iloc[i].to_numpy()\n",
    "                    model = KNN(x_train, y_train, ker, dist_f, window_h=window_h)\n",
    "                    y_pred = model.fit_predict(x_test)\n",
    "                    f += f_score(y_test, y_pred)\n",
    "\n",
    "                f /= len(data)\n",
    "\n",
    "                if f > score:\n",
    "                    score = f\n",
    "                    best_params = [dist_f, ker, [\"H\", window_h]]\n",
    "\n",
    "            for window_k in k_range:\n",
    "                print(\"Testing: \", dist_f.__name__, ker.__name__, f\"K{window_k}\")\n",
    "\n",
    "                f = 0\n",
    "                for i in tqdm(range(len(data))):\n",
    "                    x_train, x_test = data.drop(i), data.iloc[i].tolist()\n",
    "                    y_train, y_test = target_df.drop(i), target_df.iloc[i].tolist()\n",
    "                    model = KNN(x_train, y_train, ker, dist_f, window_k=window_k)\n",
    "                    y_pred = model.fit_predict(x_test)\n",
    "                    f += f_score(y_test, y_pred)\n",
    "\n",
    "                f /= len(data)\n",
    "\n",
    "                if f > score:\n",
    "                    score = f\n",
    "                    best_params = [dist_f, ker, [\"K\", window_k]]\n",
    "\n",
    "    return best_params\n",
    "\n",
    "# best_params = find_best_params()\n",
    "best_params = [manhattan, triangular, ['K', 12]]"
   ]
  },
  {
   "cell_type": "markdown",
   "metadata": {
    "pycharm": {
     "name": "#%% md\n"
    }
   },
   "source": [
    "### analyse"
   ]
  },
  {
   "cell_type": "code",
   "execution_count": 9,
   "metadata": {
    "pycharm": {
     "name": "#%%\n"
    }
   },
   "outputs": [
    {
     "name": "stdout",
     "output_type": "stream",
     "text": [
      "41\n"
     ]
    },
    {
     "name": "stderr",
     "output_type": "stream",
     "text": [
      "100%|██████████████████████████████████████| 1728/1728 [00:14<00:00, 122.23it/s]\n",
      "100%|██████████████████████████████████████| 1728/1728 [00:13<00:00, 123.73it/s]\n",
      "100%|██████████████████████████████████████| 1728/1728 [00:13<00:00, 124.28it/s]\n",
      "100%|██████████████████████████████████████| 1728/1728 [00:14<00:00, 117.51it/s]\n",
      "100%|██████████████████████████████████████| 1728/1728 [00:14<00:00, 118.70it/s]\n",
      "100%|██████████████████████████████████████| 1728/1728 [00:14<00:00, 123.04it/s]\n",
      "100%|██████████████████████████████████████| 1728/1728 [00:14<00:00, 120.46it/s]\n",
      "100%|██████████████████████████████████████| 1728/1728 [00:15<00:00, 114.98it/s]\n",
      "100%|██████████████████████████████████████| 1728/1728 [00:14<00:00, 120.51it/s]\n",
      "100%|██████████████████████████████████████| 1728/1728 [00:13<00:00, 124.00it/s]\n",
      "100%|██████████████████████████████████████| 1728/1728 [00:13<00:00, 124.69it/s]\n",
      "100%|██████████████████████████████████████| 1728/1728 [00:14<00:00, 120.22it/s]\n",
      "100%|██████████████████████████████████████| 1728/1728 [00:14<00:00, 120.98it/s]\n",
      "100%|██████████████████████████████████████| 1728/1728 [00:14<00:00, 119.09it/s]\n",
      "100%|██████████████████████████████████████| 1728/1728 [00:14<00:00, 121.25it/s]\n",
      "100%|██████████████████████████████████████| 1728/1728 [00:14<00:00, 120.40it/s]\n",
      "100%|██████████████████████████████████████| 1728/1728 [00:14<00:00, 115.43it/s]\n",
      "100%|██████████████████████████████████████| 1728/1728 [00:15<00:00, 112.79it/s]\n",
      "100%|██████████████████████████████████████| 1728/1728 [00:14<00:00, 118.89it/s]\n",
      "100%|██████████████████████████████████████| 1728/1728 [00:14<00:00, 120.56it/s]\n",
      "100%|██████████████████████████████████████| 1728/1728 [00:14<00:00, 120.15it/s]\n",
      "100%|██████████████████████████████████████| 1728/1728 [00:14<00:00, 119.23it/s]\n",
      "100%|██████████████████████████████████████| 1728/1728 [00:16<00:00, 105.06it/s]\n",
      "100%|██████████████████████████████████████| 1728/1728 [00:14<00:00, 119.52it/s]\n",
      "100%|██████████████████████████████████████| 1728/1728 [00:14<00:00, 120.13it/s]\n",
      "100%|██████████████████████████████████████| 1728/1728 [00:14<00:00, 120.56it/s]\n",
      "100%|██████████████████████████████████████| 1728/1728 [00:14<00:00, 115.49it/s]\n",
      "100%|██████████████████████████████████████| 1728/1728 [00:14<00:00, 116.09it/s]\n",
      "100%|██████████████████████████████████████| 1728/1728 [00:14<00:00, 116.15it/s]\n",
      "100%|██████████████████████████████████████| 1728/1728 [00:14<00:00, 116.44it/s]\n",
      "100%|██████████████████████████████████████| 1728/1728 [00:14<00:00, 118.63it/s]\n",
      "100%|██████████████████████████████████████| 1728/1728 [00:14<00:00, 116.99it/s]\n",
      "100%|██████████████████████████████████████| 1728/1728 [00:14<00:00, 116.63it/s]\n",
      "100%|██████████████████████████████████████| 1728/1728 [00:14<00:00, 116.56it/s]\n",
      "100%|██████████████████████████████████████| 1728/1728 [00:14<00:00, 115.56it/s]\n",
      "100%|██████████████████████████████████████| 1728/1728 [00:14<00:00, 118.02it/s]\n",
      "100%|██████████████████████████████████████| 1728/1728 [00:14<00:00, 118.27it/s]\n",
      "100%|██████████████████████████████████████| 1728/1728 [00:14<00:00, 118.86it/s]\n",
      "100%|██████████████████████████████████████| 1728/1728 [00:14<00:00, 117.28it/s]\n",
      "100%|██████████████████████████████████████| 1728/1728 [00:14<00:00, 120.47it/s]\n",
      "100%|██████████████████████████████████████| 1728/1728 [00:14<00:00, 116.50it/s]\n"
     ]
    },
    {
     "data": {
      "image/png": "[encoded data removed]",
      "text/plain": [
       "<Figure size 432x288 with 1 Axes>"
      ]
     },
     "metadata": {
      "needs_background": "light"
     },
     "output_type": "display_data"
    }
   ],
   "source": [
    "# построение графика зависимости F-меры от ширины окна\n",
    "\n",
    "dist_f, ker, window = best_params\n",
    "f_curve = []\n",
    "\n",
    "window_range = get_h_range(dist_f) if window[0] == \"H\" else k_range\n",
    "print(len(window_range))\n",
    "for window_param in window_range:\n",
    "    f = 0\n",
    "    for i in tqdm(range(len(data))):\n",
    "        x_train, x_test = data.drop(i), data.iloc[i].tolist()\n",
    "        y_train, y_test = target_df.drop(i), target_df.iloc[i].tolist()\n",
    "        if window[0] == \"H\":\n",
    "            model = KNN(x_train, y_train, ker, dist_f, window_h=window_param)\n",
    "        else:\n",
    "            model = KNN(x_train, y_train, ker, dist_f, window_k=window_param)\n",
    "        y_pred = model.fit_predict(x_test)\n",
    "        f += f_score(y_test, y_pred)\n",
    "    f_curve.append(f / len(data))\n",
    "\n",
    "plt.plot(window_range, f_curve)\n",
    "plt.show()"
   ]
  }
 ],
 "metadata": {
  "kernelspec": {
   "display_name": "Python 3 (ipykernel)",
   "language": "python",
   "name": "python3"
  },
  "language_info": {
   "codemirror_mode": {
    "name": "ipython",
    "version": 3
   },
   "file_extension": ".py",
   "mimetype": "text/x-python",
   "name": "python",
   "nbconvert_exporter": "python",
   "pygments_lexer": "ipython3",
   "version": "3.9.5"
  }
 },
 "nbformat": 4,
 "nbformat_minor": 1
}
