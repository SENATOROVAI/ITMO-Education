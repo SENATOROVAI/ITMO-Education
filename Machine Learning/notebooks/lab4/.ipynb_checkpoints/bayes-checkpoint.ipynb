{
 "cells": [
  {
   "cell_type": "code",
   "execution_count": 1,
   "metadata": {},
   "outputs": [],
   "source": [
    "import numpy as np\n",
    "from typing import Callable\n",
    "from matplotlib import pyplot as plt\n",
    "from os import listdir\n",
    "import optuna\n",
    "from tqdm.notebook import tqdm"
   ]
  },
  {
   "cell_type": "code",
   "execution_count": 2,
   "metadata": {
    "pycharm": {
     "name": "#%%\n"
    }
   },
   "outputs": [],
   "source": [
    "#чтение файл и запись в data\n",
    "\n",
    "dir_name = 'messages'\n",
    "\n",
    "def read_file(filename) -> tuple[set, int]:\n",
    "    with open(filename) as f:\n",
    "        content = set(map(int, f.readline().split()[1:]))\n",
    "        f.readline()\n",
    "        content.update(map(int, f.readline().split()))\n",
    "        is_spam = int('spmsg' in filename)\n",
    "        return content, is_spam\n",
    "\n",
    "def read_part(dirname: str) -> tuple[np.ndarray, np.ndarray]:\n",
    "    x, y = [], []\n",
    "    for filename in listdir(dirname):\n",
    "        content, is_spam = read_file(f\"{dirname}/{filename}\")\n",
    "        x.append(content)\n",
    "        y.append(is_spam)\n",
    "    return np.array(x), np.array(y)\n",
    "\n",
    "def read_data(dirname: str) -> np.ndarray:\n",
    "    data = []\n",
    "    for part_dir in listdir(dirname):\n",
    "        data.append(read_part(f\"{dirname}/{part_dir}\"))\n",
    "    return np.array(data)\n",
    "\n",
    "def train_test_xy_split_data(data: np.ndarray, i: int) -> tuple[np.ndarray, np.ndarray, np.ndarray, np.ndarray]:\n",
    "    train, test = np.concatenate([data[:i], data[i + 1:]]), data[i]\n",
    "    return np.concatenate(train[:, 0]), np.concatenate(train[:, 1]), test[0], test[1]\n",
    "\n",
    "data = read_data(dir_name)"
   ]
  },
  {
   "cell_type": "code",
   "execution_count": 3,
   "metadata": {
    "pycharm": {
     "name": "#%%\n"
    }
   },
   "outputs": [],
   "source": [
    "#алгоритм наивного байесовского классификатора\n",
    "\n",
    "class Bayes:\n",
    "    def __init__(self, n: int = None, alpha: float = 0, l=None):\n",
    "        if n is None and l is None:\n",
    "            raise Exception\n",
    "\n",
    "        if n is None:\n",
    "            n = len(l)\n",
    "\n",
    "        if l is None:\n",
    "            l = np.ones(n)\n",
    "\n",
    "        self.n = n\n",
    "        self.alpha = alpha\n",
    "        self.l = l\n",
    "        self.p_y = None\n",
    "        self.p_wy = None\n",
    "\n",
    "    def fit(self, x_train: np.ndarray, y_train: np.ndarray):\n",
    "        p_y = dict()\n",
    "        p_wy = dict()\n",
    "        all_words = set()\n",
    "\n",
    "        for w in x_train:\n",
    "            all_words.update(w)\n",
    "\n",
    "        for y in range(self.n):\n",
    "            p_y[y] = 0\n",
    "            p_wy[y] = dict()\n",
    "            for word in all_words:\n",
    "                p_wy[y][word] = 0\n",
    "\n",
    "        for y, words in zip(y_train, x_train):\n",
    "            p_y[y] += 1\n",
    "            for w in words:\n",
    "                p_wy[y][w] += 1\n",
    "\n",
    "        for y in p_wy.keys():\n",
    "            for w in p_wy[y].keys():\n",
    "                p_wy[y][w] = (p_wy[y][w] + self.alpha) / (p_y[y] + 2 * self.alpha)\n",
    "            p_y[y] /= n\n",
    "\n",
    "        self.p_y = p_y\n",
    "        self.p_wy = p_wy\n",
    "        return self\n",
    "\n",
    "    def get_probabilities(self, x: set) -> np.ndarray:\n",
    "        import math\n",
    "        p_pred = []\n",
    "\n",
    "        def safe_log(val: float) -> float:\n",
    "            if val == 0:\n",
    "                return -math.inf\n",
    "            else:\n",
    "                return math.log(val)\n",
    "\n",
    "        for y in range(self.n):\n",
    "            p = safe_log(self.l[y] * self.p_y[y])\n",
    "            for w in self.p_wy[y]:\n",
    "                if w in x:\n",
    "                    p += safe_log(self.p_wy[y][w])\n",
    "                else:\n",
    "                    p += safe_log(1 - self.p_wy[y][w])\n",
    "            p_pred.append(p)\n",
    "\n",
    "        p_pred_max = max(p_pred)\n",
    "        p_pred = list(map(lambda p: math.exp(p - p_pred_max), p_pred))\n",
    "        sum_p_pred = sum(p_pred)\n",
    "        p_pred = list(map(lambda p: p / sum_p_pred, p_pred))\n",
    "\n",
    "        return np.array(p_pred)\n",
    "\n",
    "    def predict1(self, x: set) -> int:\n",
    "        return int(np.argmax(self.get_probabilities(x)))\n",
    "\n",
    "    def predict(self, x: np.ndarray) -> np.ndarray:\n",
    "        return np.vectorize(self.predict1)(x)"
   ]
  },
  {
   "cell_type": "code",
   "execution_count": 4,
   "metadata": {
    "pycharm": {
     "name": "#%%\n"
    }
   },
   "outputs": [
    {
     "data": {
      "application/json": {
       "ascii": false,
       "bar_format": null,
       "colour": null,
       "elapsed": 0.05512595176696777,
       "initial": 0,
       "n": 0,
       "ncols": null,
       "nrows": 24,
       "postfix": null,
       "prefix": "",
       "rate": null,
       "total": 3,
       "unit": "it",
       "unit_divisor": 1000,
       "unit_scale": false
      },
      "application/vnd.jupyter.widget-view+json": {
       "model_id": "6198000507d94beea8b3eca13a94c520",
       "version_major": 2,
       "version_minor": 0
      },
      "text/plain": [
       "  0%|          | 0/3 [00:00<?, ?it/s]"
      ]
     },
     "metadata": {},
     "output_type": "display_data"
    },
    {
     "data": {
      "application/json": {
       "ascii": false,
       "bar_format": null,
       "colour": null,
       "elapsed": 0.023720979690551758,
       "initial": 0,
       "n": 0,
       "ncols": null,
       "nrows": 24,
       "postfix": null,
       "prefix": "",
       "rate": null,
       "total": 10,
       "unit": "it",
       "unit_divisor": 1000,
       "unit_scale": false
      },
      "application/vnd.jupyter.widget-view+json": {
       "model_id": "2da0ccc0b8fb4dae92c933a665660192",
       "version_major": 2,
       "version_minor": 0
      },
      "text/plain": [
       "  0%|          | 0/10 [00:00<?, ?it/s]"
      ]
     },
     "metadata": {},
     "output_type": "display_data"
    },
    {
     "data": {
      "application/json": {
       "ascii": false,
       "bar_format": null,
       "colour": null,
       "elapsed": 0.028740882873535156,
       "initial": 0,
       "n": 0,
       "ncols": null,
       "nrows": 24,
       "postfix": null,
       "prefix": "",
       "rate": null,
       "total": 10,
       "unit": "it",
       "unit_divisor": 1000,
       "unit_scale": false
      },
      "application/vnd.jupyter.widget-view+json": {
       "model_id": "d2152354be94488f9dce7c88cf3f1788",
       "version_major": 2,
       "version_minor": 0
      },
      "text/plain": [
       "  0%|          | 0/10 [00:00<?, ?it/s]"
      ]
     },
     "metadata": {},
     "output_type": "display_data"
    },
    {
     "data": {
      "application/json": {
       "ascii": false,
       "bar_format": null,
       "colour": null,
       "elapsed": 0.022513866424560547,
       "initial": 0,
       "n": 0,
       "ncols": null,
       "nrows": 24,
       "postfix": null,
       "prefix": "",
       "rate": null,
       "total": 10,
       "unit": "it",
       "unit_divisor": 1000,
       "unit_scale": false
      },
      "application/vnd.jupyter.widget-view+json": {
       "model_id": "5aab19f6c253430da176646e94a98b52",
       "version_major": 2,
       "version_minor": 0
      },
      "text/plain": [
       "  0%|          | 0/10 [00:00<?, ?it/s]"
      ]
     },
     "metadata": {},
     "output_type": "display_data"
    },
    {
     "data": {
      "text/plain": [
       "['n=1 alpha=0.0 probs=[1.]',\n",
       " 'n=1 alpha=0.011111111111111112 probs=[1.]',\n",
       " 'n=1 alpha=0.022222222222222223 probs=[1.]',\n",
       " 'n=1 alpha=0.03333333333333333 probs=[1.]',\n",
       " 'n=1 alpha=0.044444444444444446 probs=[1.]',\n",
       " 'n=1 alpha=0.05555555555555556 probs=[1.]',\n",
       " 'n=1 alpha=0.06666666666666667 probs=[1.]',\n",
       " 'n=1 alpha=0.07777777777777778 probs=[1.]',\n",
       " 'n=1 alpha=0.08888888888888889 probs=[1.]',\n",
       " 'n=1 alpha=0.1 probs=[1.]',\n",
       " 'n=2 alpha=0.0 probs=[0.69730654 0.30269346]',\n",
       " 'n=2 alpha=0.011111111111111112 probs=[1.00000000e+00 7.32281839e-22]',\n",
       " 'n=2 alpha=0.022222222222222223 probs=[2.411337e-20 1.000000e+00]',\n",
       " 'n=2 alpha=0.03333333333333333 probs=[9.99999992e-01 7.94863433e-09]',\n",
       " 'n=2 alpha=0.044444444444444446 probs=[6.08037711e-25 1.00000000e+00]',\n",
       " 'n=2 alpha=0.05555555555555556 probs=[0.36557223 0.63442777]',\n",
       " 'n=2 alpha=0.06666666666666667 probs=[1.00000000e+00 6.83126596e-12]',\n",
       " 'n=2 alpha=0.07777777777777778 probs=[0.07086456 0.92913544]',\n",
       " 'n=2 alpha=0.08888888888888889 probs=[2.62195089e-08 9.99999974e-01]',\n",
       " 'n=2 alpha=0.1 probs=[1.00000000e+00 1.19437534e-36]',\n",
       " 'n=3 alpha=0.0 probs=[1. 0. 0.]',\n",
       " 'n=3 alpha=0.011111111111111112 probs=[3.58214980e-53 2.68133843e-19 1.00000000e+00]',\n",
       " 'n=3 alpha=0.022222222222222223 probs=[1.09935705e-42 4.33306866e-24 1.00000000e+00]',\n",
       " 'n=3 alpha=0.03333333333333333 probs=[5.77961807e-19 1.99587701e-19 1.00000000e+00]',\n",
       " 'n=3 alpha=0.044444444444444446 probs=[9.99968950e-01 3.10503019e-05 9.00753523e-11]',\n",
       " 'n=3 alpha=0.05555555555555556 probs=[1.00000000e+00 2.44613681e-20 1.26421414e-27]',\n",
       " 'n=3 alpha=0.06666666666666667 probs=[1.00000000e+00 2.45482166e-39 1.23978906e-20]',\n",
       " 'n=3 alpha=0.07777777777777778 probs=[1.11456943e-27 1.09186249e-41 1.00000000e+00]',\n",
       " 'n=3 alpha=0.08888888888888889 probs=[1.63536893e-33 1.46763341e-05 9.99985324e-01]',\n",
       " 'n=3 alpha=0.1 probs=[1.63828351e-09 1.43522409e-32 9.99999998e-01]']"
      ]
     },
     "execution_count": 4,
     "metadata": {},
     "output_type": "execute_result"
    }
   ],
   "source": [
    "# проверим для n = 1..3\n",
    "log = []\n",
    "for n in tqdm(range(1, 4)):\n",
    "    for alpha in tqdm(np.linspace(0, 0.1, 10)):\n",
    "        x = np.concatenate(data[:, 0])\n",
    "        model = Bayes(n, alpha).fit(x, np.random.randint(0, n, len(x)))\n",
    "        probs = model.get_probabilities(x[0])\n",
    "        log.append(f\"n={n} alpha={alpha} probs={probs}\")\n",
    "\n",
    "log"
   ]
  },
  {
   "cell_type": "code",
   "execution_count": 5,
   "metadata": {
    "pycharm": {
     "name": "#%%\n"
    }
   },
   "outputs": [],
   "source": [
    "#считаем accuracy по формуле\n",
    "def accuracy(y_pred: np.ndarray, y_test: np.ndarray) -> float:\n",
    "    return np.count_nonzero(y_pred == y_test) / len(y_pred)\n",
    "\n",
    "#делаем кросс валидацию\n",
    "def cross_validate(\n",
    "        model_supplier: Callable[[], Bayes],\n",
    "        loss_f: Callable[[np.ndarray, np.ndarray], float] = accuracy,\n",
    "        k: int = 10,\n",
    ") -> float:\n",
    "    acc = 0\n",
    "    for i in range(k):\n",
    "        x_train, y_train, x_test, y_test = train_test_xy_split_data(data, i)\n",
    "        y_pred = model_supplier().fit(x_train, y_train).predict(x_test)\n",
    "        acc += loss_f(y_pred, y_test)\n",
    "    return acc / k"
   ]
  },
  {
   "cell_type": "code",
   "execution_count": 6,
   "metadata": {
    "pycharm": {
     "name": "#%%\n"
    }
   },
   "outputs": [
    {
     "name": "stderr",
     "output_type": "stream",
     "text": [
      "\u001b[32m[I 2022-10-26 09:57:46,116]\u001b[0m A new study created in memory with name: no-name-234cbce7-064c-4eae-b98d-2edc7675daec\u001b[0m\n",
      "/Library/Frameworks/Python.framework/Versions/3.9/lib/python3.9/site-packages/optuna/progress_bar.py:49: ExperimentalWarning: Progress bar is experimental (supported from v1.2.0). The interface can change in the future.\n",
      "  self._init_valid()\n"
     ]
    },
    {
     "data": {
      "application/json": {
       "ascii": false,
       "bar_format": null,
       "colour": null,
       "elapsed": 0.02865910530090332,
       "initial": 0,
       "n": 0,
       "ncols": null,
       "nrows": 24,
       "postfix": null,
       "prefix": "",
       "rate": null,
       "total": 20,
       "unit": "it",
       "unit_divisor": 1000,
       "unit_scale": false
      },
      "application/vnd.jupyter.widget-view+json": {
       "model_id": "3693bf5c87a747fa92ce334415e5e971",
       "version_major": 2,
       "version_minor": 0
      },
      "text/plain": [
       "  0%|          | 0/20 [00:00<?, ?it/s]"
      ]
     },
     "metadata": {},
     "output_type": "display_data"
    },
    {
     "name": "stderr",
     "output_type": "stream",
     "text": [
      "/var/folders/gq/n88br3s11t9c2zct8n333z0m0000gn/T/ipykernel_62656/3070974369.py:4: FutureWarning: suggest_uniform has been deprecated in v3.0.0. This feature will be removed in v6.0.0. See https://github.com/optuna/optuna/releases/tag/v3.0.0. Use :func:`~optuna.trial.Trial.suggest_float` instead.\n",
      "  alpha = trial.suggest_uniform(\"alpha\", 0, 1)\n",
      "/var/folders/gq/n88br3s11t9c2zct8n333z0m0000gn/T/ipykernel_62656/3070974369.py:5: FutureWarning: suggest_uniform has been deprecated in v3.0.0. This feature will be removed in v6.0.0. See https://github.com/optuna/optuna/releases/tag/v3.0.0. Use :func:`~optuna.trial.Trial.suggest_float` instead.\n",
      "  l1 = trial.suggest_uniform(\"l1\", 0, 1)\n",
      "/var/folders/gq/n88br3s11t9c2zct8n333z0m0000gn/T/ipykernel_62656/3070974369.py:6: FutureWarning: suggest_uniform has been deprecated in v3.0.0. This feature will be removed in v6.0.0. See https://github.com/optuna/optuna/releases/tag/v3.0.0. Use :func:`~optuna.trial.Trial.suggest_float` instead.\n",
      "  l2 = trial.suggest_uniform(\"l2\", 0, 1)\n"
     ]
    },
    {
     "name": "stdout",
     "output_type": "stream",
     "text": [
      "\u001b[32m[I 2022-10-26 09:58:09,475]\u001b[0m Trial 0 finished with value: 0.9339449541284406 and parameters: {'alpha': 0.7708277988477782, 'l1': 0.050603290821661706, 'l2': 0.7822461527554774}. Best is trial 0 with value: 0.9339449541284406.\u001b[0m\n",
      "\u001b[32m[I 2022-10-26 09:58:30,741]\u001b[0m Trial 1 finished with value: 0.9275229357798166 and parameters: {'alpha': 0.8366497467598242, 'l1': 0.6474526839601135, 'l2': 0.9154121845012464}. Best is trial 0 with value: 0.9339449541284406.\u001b[0m\n",
      "\u001b[32m[I 2022-10-26 09:58:51,818]\u001b[0m Trial 2 finished with value: 0.9449541284403669 and parameters: {'alpha': 0.3436582797144295, 'l1': 0.6469515179127668, 'l2': 0.5375733031955008}. Best is trial 2 with value: 0.9449541284403669.\u001b[0m\n",
      "\u001b[32m[I 2022-10-26 09:59:12,872]\u001b[0m Trial 3 finished with value: 0.9504587155963302 and parameters: {'alpha': 0.058263741778461164, 'l1': 0.9831457844581698, 'l2': 0.06265978942956563}. Best is trial 3 with value: 0.9504587155963302.\u001b[0m\n",
      "\u001b[32m[I 2022-10-26 09:59:34,147]\u001b[0m Trial 4 finished with value: 0.9366972477064222 and parameters: {'alpha': 0.5473330911861806, 'l1': 0.9511353505640548, 'l2': 0.7452810779165117}. Best is trial 3 with value: 0.9504587155963302.\u001b[0m\n",
      "\u001b[32m[I 2022-10-26 09:59:55,566]\u001b[0m Trial 5 finished with value: 0.9385321100917432 and parameters: {'alpha': 0.5707782442334554, 'l1': 0.07259618738502105, 'l2': 0.469783247936978}. Best is trial 3 with value: 0.9504587155963302.\u001b[0m\n",
      "\u001b[32m[I 2022-10-26 10:00:16,931]\u001b[0m Trial 6 finished with value: 0.9412844036697248 and parameters: {'alpha': 0.47664166173580635, 'l1': 0.27114709161037687, 'l2': 0.9169443649561287}. Best is trial 3 with value: 0.9504587155963302.\u001b[0m\n",
      "\u001b[32m[I 2022-10-26 10:00:38,245]\u001b[0m Trial 7 finished with value: 0.9266055045871561 and parameters: {'alpha': 0.6996397536643132, 'l1': 0.708941671001229, 'l2': 0.16367299497281018}. Best is trial 3 with value: 0.9504587155963302.\u001b[0m\n",
      "\u001b[32m[I 2022-10-26 10:01:00,518]\u001b[0m Trial 8 finished with value: 0.9229357798165138 and parameters: {'alpha': 0.9249380549941282, 'l1': 0.24354281076590145, 'l2': 0.41236954179903773}. Best is trial 3 with value: 0.9504587155963302.\u001b[0m\n",
      "\u001b[32m[I 2022-10-26 10:01:23,917]\u001b[0m Trial 9 finished with value: 0.9091743119266056 and parameters: {'alpha': 0.8723025598878381, 'l1': 0.8868938145038379, 'l2': 0.0031941225736632495}. Best is trial 3 with value: 0.9504587155963302.\u001b[0m\n"
     ]
    },
    {
     "name": "stderr",
     "output_type": "stream",
     "text": [
      "/var/folders/gq/n88br3s11t9c2zct8n333z0m0000gn/T/ipykernel_62656/3070974369.py:5: FutureWarning: suggest_uniform has been deprecated in v3.0.0. This feature will be removed in v6.0.0. See https://github.com/optuna/optuna/releases/tag/v3.0.0. Use :func:`~optuna.trial.Trial.suggest_float` instead.\n",
      "  l1 = trial.suggest_uniform(\"l1\", 0, 1)\n",
      "/var/folders/gq/n88br3s11t9c2zct8n333z0m0000gn/T/ipykernel_62656/3070974369.py:6: FutureWarning: suggest_uniform has been deprecated in v3.0.0. This feature will be removed in v6.0.0. See https://github.com/optuna/optuna/releases/tag/v3.0.0. Use :func:`~optuna.trial.Trial.suggest_float` instead.\n",
      "  l2 = trial.suggest_uniform(\"l2\", 0, 1)\n"
     ]
    },
    {
     "name": "stdout",
     "output_type": "stream",
     "text": [
      "\u001b[32m[I 2022-10-26 10:01:46,116]\u001b[0m Trial 10 finished with value: 0.9559633027522935 and parameters: {'alpha': 0.05122783711925908, 'l1': 0.4467025489639602, 'l2': 0.24803581475289582}. Best is trial 10 with value: 0.9559633027522935.\u001b[0m\n"
     ]
    },
    {
     "name": "stderr",
     "output_type": "stream",
     "text": [
      "/var/folders/gq/n88br3s11t9c2zct8n333z0m0000gn/T/ipykernel_62656/3070974369.py:4: FutureWarning: suggest_uniform has been deprecated in v3.0.0. This feature will be removed in v6.0.0. See https://github.com/optuna/optuna/releases/tag/v3.0.0. Use :func:`~optuna.trial.Trial.suggest_float` instead.\n",
      "  alpha = trial.suggest_uniform(\"alpha\", 0, 1)\n"
     ]
    },
    {
     "name": "stdout",
     "output_type": "stream",
     "text": [
      "\u001b[32m[I 2022-10-26 10:02:10,760]\u001b[0m Trial 11 finished with value: 0.956880733944954 and parameters: {'alpha': 0.023740146772676773, 'l1': 0.41576090709994584, 'l2': 0.22083418420711956}. Best is trial 11 with value: 0.956880733944954.\u001b[0m\n",
      "\u001b[32m[I 2022-10-26 10:02:34,763]\u001b[0m Trial 12 finished with value: 0.956880733944954 and parameters: {'alpha': 0.005458803262911878, 'l1': 0.4343843954385562, 'l2': 0.2623487697917912}. Best is trial 11 with value: 0.956880733944954.\u001b[0m\n",
      "\u001b[32m[I 2022-10-26 10:02:57,723]\u001b[0m Trial 13 finished with value: 0.9477064220183486 and parameters: {'alpha': 0.21523738701109507, 'l1': 0.4592781318898531, 'l2': 0.2813125068738674}. Best is trial 11 with value: 0.956880733944954.\u001b[0m\n",
      "\u001b[32m[I 2022-10-26 10:03:22,904]\u001b[0m Trial 14 finished with value: 0.9486238532110092 and parameters: {'alpha': 0.2145605939349043, 'l1': 0.2883637017398637, 'l2': 0.3681888548001983}. Best is trial 11 with value: 0.956880733944954.\u001b[0m\n",
      "\u001b[32m[I 2022-10-26 10:03:45,149]\u001b[0m Trial 15 finished with value: 0.9587155963302753 and parameters: {'alpha': 0.004079033689129383, 'l1': 0.3957710199710527, 'l2': 0.5907149335814645}. Best is trial 15 with value: 0.9587155963302753.\u001b[0m\n",
      "\u001b[32m[I 2022-10-26 10:04:08,391]\u001b[0m Trial 16 finished with value: 0.9486238532110092 and parameters: {'alpha': 0.18230062382979909, 'l1': 0.5478403859454477, 'l2': 0.6838200991293822}. Best is trial 15 with value: 0.9587155963302753.\u001b[0m\n",
      "\u001b[32m[I 2022-10-26 10:04:31,866]\u001b[0m Trial 17 finished with value: 0.9467889908256881 and parameters: {'alpha': 0.3417396994506038, 'l1': 0.33781041889728136, 'l2': 0.5857521012268205}. Best is trial 15 with value: 0.9587155963302753.\u001b[0m\n",
      "\u001b[32m[I 2022-10-26 10:04:56,371]\u001b[0m Trial 18 finished with value: 0.9541284403669723 and parameters: {'alpha': 0.15014494266255304, 'l1': 0.1726967956703871, 'l2': 0.6681559693160819}. Best is trial 15 with value: 0.9587155963302753.\u001b[0m\n",
      "\u001b[32m[I 2022-10-26 10:05:21,442]\u001b[0m Trial 19 finished with value: 0.9412844036697248 and parameters: {'alpha': 0.3579157894751947, 'l1': 0.7573300479982848, 'l2': 0.12676852538912403}. Best is trial 15 with value: 0.9587155963302753.\u001b[0m\n"
     ]
    },
    {
     "data": {
      "text/plain": [
       "{'alpha': 0.004079033689129383,\n",
       " 'l1': 0.3957710199710527,\n",
       " 'l2': 0.5907149335814645}"
      ]
     },
     "execution_count": 6,
     "metadata": {},
     "output_type": "execute_result"
    }
   ],
   "source": [
    "#подбор наилучших параметров\n",
    "\n",
    "study = optuna.create_study(direction=\"maximize\")\n",
    "\n",
    "def objective(trial: optuna.Trial) -> float:\n",
    "    alpha = trial.suggest_uniform(\"alpha\", 0, 1)\n",
    "    l1 = trial.suggest_uniform(\"l1\", 0, 1)\n",
    "    l2 = trial.suggest_uniform(\"l2\", 0, 1)\n",
    "\n",
    "    model_supplier = lambda: Bayes(alpha=alpha, l=[l1, l2])\n",
    "    return cross_validate(model_supplier)\n",
    "\n",
    "study.optimize(objective, n_trials=20, show_progress_bar=True)\n",
    "best_params = study.best_params\n",
    "best_params"
   ]
  },
  {
   "cell_type": "code",
   "execution_count": 7,
   "metadata": {
    "pycharm": {
     "name": "#%%\n"
    }
   },
   "outputs": [
    {
     "data": {
      "text/plain": [
       "[<matplotlib.lines.Line2D at 0x7fad43446e20>]"
      ]
     },
     "execution_count": 7,
     "metadata": {},
     "output_type": "execute_result"
    },
    {
     "data": {
      "image/png": "[encoded data removed]",
      "text/plain": [
       "<Figure size 504x504 with 1 Axes>"
      ]
     },
     "metadata": {
      "needs_background": "light"
     },
     "output_type": "display_data"
    }
   ],
   "source": [
    "#ROC-кривая для обученной модели\n",
    "\n",
    "from sklearn.metrics import roc_curve\n",
    "\n",
    "model = Bayes(alpha=best_params[\"alpha\"], l=[best_params[\"l1\"], best_params[\"l2\"]])\n",
    "x_train, y_train, x_test, y_test = train_test_xy_split_data(data, 0)\n",
    "trained_model = model.fit(x_train, y_train)\n",
    "y_pred = np.array(list(map(trained_model.get_probabilities, x_test)))[:, 1]\n",
    "\n",
    "fpr, tpr, _ = roc_curve(y_test.astype('int64'), y_pred)\n",
    "\n",
    "plt.figure(figsize=(7, 7))\n",
    "plt.xlabel('fpr')\n",
    "plt.ylabel('tpr')\n",
    "plt.plot(fpr, tpr)"
   ]
  },
  {
   "cell_type": "markdown",
   "metadata": {
    "pycharm": {
     "name": "#%% md\n"
    }
   },
   "source": [
    "### Подберем l_legit при фиксированном l_spam"
   ]
  },
  {
   "cell_type": "code",
   "execution_count": 8,
   "metadata": {
    "pycharm": {
     "name": "#%%\n"
    }
   },
   "outputs": [
    {
     "name": "stdout",
     "output_type": "stream",
     "text": [
      "0.9208333333333334\n",
      "0.93125\n",
      "0.94375\n",
      "0.9520833333333332\n",
      "0.9520833333333332\n",
      "0.9645833333333332\n",
      "0.9729166666666667\n",
      "0.9729166666666667\n",
      "0.9791666666666666\n",
      "0.98125\n",
      "0.9854166666666666\n",
      "0.9854166666666666\n",
      "0.9875\n",
      "0.9875\n",
      "0.9895833333333334\n",
      "0.99375\n",
      "0.99375\n",
      "0.99375\n",
      "0.99375\n",
      "0.99375\n",
      "0.99375\n",
      "0.9958333333333332\n",
      "0.9979166666666666\n",
      "0.9979166666666666\n",
      "0.9979166666666666\n",
      "0.9979166666666666\n",
      "0.9979166666666666\n",
      "1.0\n",
      "3.957710199710526e+26\n"
     ]
    }
   ],
   "source": [
    "#Подберем штраф ошибки классификации λlegit такой, чтобы ни одно реальное (legit) сообщение не было \n",
    "#классифицировано как спам. Штраф λspam при этом зафиксирован.\n",
    "\n",
    "def all_true_are_positive(y_pred: np.ndarray, y_test: np.ndarray) -> float:\n",
    "    tp, t = 0, 0\n",
    "    for y1, y2 in zip(y_pred, y_test):\n",
    "        if y2 == 1:\n",
    "            t += 1\n",
    "        if y1 == y2 == 1:\n",
    "            tp += 1\n",
    "    return tp / t if t > 0 else 1\n",
    "\n",
    "loss1 = []\n",
    "loss2 = []\n",
    "l_legit = best_params[\"l1\"]\n",
    "\n",
    "while True:\n",
    "    model_supplier = lambda: Bayes(alpha=best_params[\"alpha\"], l=[best_params[\"l1\"], l_legit])\n",
    "    a1 = cross_validate(model_supplier, all_true_are_positive)\n",
    "    a2 = cross_validate(model_supplier)\n",
    "    loss1.append(a1)\n",
    "    loss2.append(a2)\n",
    "    print(a1)\n",
    "    if a1 == 1:\n",
    "        break\n",
    "    l_legit *= 10\n",
    "\n",
    "print(l_legit)"
   ]
  },
  {
   "cell_type": "code",
   "execution_count": 9,
   "metadata": {
    "pycharm": {
     "name": "#%%\n"
    }
   },
   "outputs": [
    {
     "data": {
      "text/plain": [
       "[<matplotlib.lines.Line2D at 0x7fad45cc3ca0>]"
      ]
     },
     "execution_count": 9,
     "metadata": {},
     "output_type": "execute_result"
    },
    {
     "data": {
      "image/png": "[encoded data removed]",
      "text/plain": [
       "<Figure size 432x288 with 1 Axes>"
      ]
     },
     "metadata": {
      "needs_background": "light"
     },
     "output_type": "display_data"
    }
   ],
   "source": [
    "# l = 0.2 .. 0.2 * 10**25 , step = *10\n",
    "#график зависимости точности от параметра λlegit, где λlegit изменяется от значения по умолчанию (λlegit = λspam)\n",
    "plt.plot(loss1, color='blue')\n",
    "plt.plot(loss2, color='red')"
   ]
  }
 ],
 "metadata": {
  "kernelspec": {
   "display_name": "Python 3 (ipykernel)",
   "language": "python",
   "name": "python3"
  },
  "language_info": {
   "codemirror_mode": {
    "name": "ipython",
    "version": 3
   },
   "file_extension": ".py",
   "mimetype": "text/x-python",
   "name": "python",
   "nbconvert_exporter": "python",
   "pygments_lexer": "ipython3",
   "version": "3.9.5"
  }
 },
 "nbformat": 4,
 "nbformat_minor": 1
}
