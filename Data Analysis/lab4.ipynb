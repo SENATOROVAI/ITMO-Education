{
 "cells": [
  {
   "cell_type": "markdown",
   "id": "275be85e",
   "metadata": {},
   "source": [
    "# Импорт библиотек"
   ]
  },
  {
   "cell_type": "code",
   "execution_count": null,
   "id": "68f22894",
   "metadata": {},
   "outputs": [],
   "source": [
    "import warnings \n",
    "warnings.filterwarnings('ignore')\n",
    "\n",
    "import pandas as pd \n",
    "from IPython.display import display\n",
    "import numpy as np\n",
    "import matplotlib.pyplot as plt\n",
    "from scipy import stats as st\n",
    "# import seaborn as sns\n",
    "import datetime\n",
    "\n",
    "from sklearn.model_selection import train_test_split\n",
    "from sklearn.model_selection import train_test_split\n",
    "from sklearn.linear_model import LogisticRegression\n",
    "from sklearn.ensemble import RandomForestClassifier\n",
    "from sklearn.metrics import accuracy_score, precision_score, recall_score,f1_score\n",
    "from sklearn.preprocessing import StandardScaler\n",
    "from sklearn.cluster import KMeans\n",
    "from scipy.cluster.hierarchy import dendrogram, linkage\n",
    "from sklearn.metrics import silhouette_score"
   ]
  },
  {
   "cell_type": "markdown",
   "id": "20374e76",
   "metadata": {},
   "source": [
    "# Предобработка данных\n",
    "\n",
    "Для выполнения задания возьмем датасет *NBA 2k20 player dataset* и изучим основную информацию о нем"
   ]
  },
  {
   "cell_type": "code",
   "execution_count": null,
   "id": "0b53f3c2",
   "metadata": {},
   "outputs": [],
   "source": [
    "df = pd.read_csv('nba2k-full.csv')\n",
    "df.head()"
   ]
  },
  {
   "cell_type": "markdown",
   "id": "63f05d68",
   "metadata": {},
   "source": [
    "Информация о датасете"
   ]
  },
  {
   "cell_type": "code",
   "execution_count": null,
   "id": "0f3f2c49",
   "metadata": {},
   "outputs": [],
   "source": [
    "df.shape"
   ]
  },
  {
   "cell_type": "code",
   "execution_count": null,
   "id": "58c348ce",
   "metadata": {},
   "outputs": [],
   "source": [
    "df.info()"
   ]
  },
  {
   "cell_type": "markdown",
   "id": "6fd71870",
   "metadata": {},
   "source": [
    "Устраним пропуски"
   ]
  },
  {
   "cell_type": "code",
   "execution_count": null,
   "id": "45457906",
   "metadata": {},
   "outputs": [],
   "source": [
    "df['team'] = df['team'].fillna('not specified')\n",
    "df['college'] = df['college'].fillna('not specified')"
   ]
  },
  {
   "cell_type": "markdown",
   "id": "5c4ebd85",
   "metadata": {},
   "source": [
    "Преобразуем данные в столбцах: уберем знак доллар в зарплатах, рост и вес приведем к чесленному формату, измеряя рост в метрах, а вес в кг"
   ]
  },
  {
   "cell_type": "code",
   "execution_count": null,
   "id": "45c0b391",
   "metadata": {},
   "outputs": [],
   "source": [
    "for i in range(df.shape[0]):         # обработка даты рождения\n",
    "    s = df['b_day'][i]\n",
    "    if s[6] == '0' or s[6] == '1' or s[6] == '2':\n",
    "        s = s[0:6] + '20' + s[6:8]\n",
    "    else:\n",
    "        s = s[0:6] + '19' + s[6:8]\n",
    "    df['b_day'][i] = s\n",
    "    s = ''\n",
    "df['b_day'] = pd.to_datetime(df['b_day'], format='%m/%d/%Y')\n",
    "\n",
    "df['height_meters'] = float(0)  #обработка роста\n",
    "for i in range(len(df['height'])):\n",
    "    s = df['height'][i].split('/')\n",
    "    df['height_meters'][i] = float(s[1])\n",
    "    s = ''\n",
    "\n",
    "df['weight_kg'] = float(0)  #обработка веса\n",
    "for i in range(len(df['weight'])):\n",
    "    s = df['weight'][i].split('/')\n",
    "    s1 = s[1].split()\n",
    "    df['weight_kg'][i] = float(s1[0])\n",
    "    s = ''\n",
    "    s1 = ''\n",
    "\n",
    "df['salary_dollars'] = int(0)  #обработка зарплаты\n",
    "for i in range(len(df['salary'])):\n",
    "    s = df['salary'][i]\n",
    "    df['salary_dollars'][i] = int(s[1:])\n",
    "    s = ''    \n",
    "    \n",
    "df.info()"
   ]
  },
  {
   "cell_type": "markdown",
   "id": "c0348aa6",
   "metadata": {},
   "source": [
    "# Дискретизируем признак\n",
    "\n",
    "Разобъем зарплаты на равные группы и создадим столбец *salary_group*, где группы будут распределены следующим образом:\n",
    "- 1: низкая\n",
    "- 2: высокая"
   ]
  },
  {
   "cell_type": "code",
   "execution_count": null,
   "id": "9ba828be",
   "metadata": {},
   "outputs": [],
   "source": [
    "df['salary_group'] = pd.qcut(df['salary_dollars'], \n",
    "                             2, \n",
    "                             [1,2])"
   ]
  },
  {
   "cell_type": "markdown",
   "id": "dce52173",
   "metadata": {},
   "source": [
    "# Выделим признаки для предсказания\n",
    "\n",
    "Что предсказываем: группу зараплаты\n",
    "\n",
    "Оставим в датафрейме: рейтинг, рост, вес, год драфта"
   ]
  },
  {
   "cell_type": "code",
   "execution_count": null,
   "id": "bc212781",
   "metadata": {},
   "outputs": [],
   "source": [
    "X = df.copy(deep=True)\n",
    "X = X.drop(['full_name', 'jersey', 'team', \n",
    "                   'position', 'b_day','height', 'salary', \n",
    "                   'country', 'draft_round', 'draft_peak', \n",
    "                   'college', 'salary_group', 'weight', 'version'], axis=1).values.tolist()\n",
    "y = list(df['salary_group'])"
   ]
  },
  {
   "cell_type": "markdown",
   "id": "360d5bd5",
   "metadata": {},
   "source": [
    "Обучение модели, сперва разобъем на тренировочную и валидационную части"
   ]
  },
  {
   "cell_type": "code",
   "execution_count": null,
   "id": "8eb5a4af",
   "metadata": {},
   "outputs": [],
   "source": [
    "X_train, X_test, y_train, y_test = train_test_split(X, y, test_size=0.2, random_state=0)"
   ]
  },
  {
   "cell_type": "markdown",
   "id": "0999c209",
   "metadata": {},
   "source": [
    "Выберем модель случайного леса"
   ]
  },
  {
   "cell_type": "code",
   "execution_count": null,
   "id": "71726df9",
   "metadata": {},
   "outputs": [],
   "source": [
    "rf_model = RandomForestClassifier() \n",
    "rf_model.fit(X_train, y_train)\n",
    "rf_predictions = rf_model.predict(X_test)"
   ]
  },
  {
   "cell_type": "markdown",
   "id": "a211d172",
   "metadata": {},
   "source": [
    "# Проверим нормальность количественного признака\n",
    "\n",
    "Проверим рост на нормальность распределения"
   ]
  },
  {
   "cell_type": "code",
   "execution_count": null,
   "id": "c9ad9d4f",
   "metadata": {},
   "outputs": [],
   "source": [
    "st.normaltest(df['height_meters'])"
   ]
  },
  {
   "cell_type": "markdown",
   "id": "24fb5f0d",
   "metadata": {},
   "source": [
    "Построим гистограмму"
   ]
  },
  {
   "cell_type": "code",
   "execution_count": null,
   "id": "55b91cb5",
   "metadata": {},
   "outputs": [],
   "source": [
    "df['height_meters'].hist()"
   ]
  },
  {
   "cell_type": "markdown",
   "id": "87e9f8b6",
   "metadata": {},
   "source": [
    "Данные немного скошены, но в целом имеют вид нормального распределения"
   ]
  },
  {
   "cell_type": "markdown",
   "id": "9b686893",
   "metadata": {},
   "source": [
    "# Метрики проверки качества предсказаний модели"
   ]
  },
  {
   "cell_type": "code",
   "execution_count": null,
   "id": "da396834",
   "metadata": {},
   "outputs": [],
   "source": [
    "def print_all_metrics(y_true, y_pred, title='Метрики классификации'):\n",
    "    print(title)\n",
    "    print('\\tAccuracy: {:.5f}'.format(accuracy_score(y_true, y_pred)))\n",
    "    print('\\tPrecision: {:.5f}'.format(precision_score(y_true, y_pred)))\n",
    "    print('\\tRecall: {:.5f}'.format(recall_score(y_true, y_pred)))\n",
    "    print('\\tF1: {:.5f}'.format(f1_score(y_true, y_pred)))\n",
    "\n",
    "print_all_metrics(\n",
    "    y_test,\n",
    "    rf_predictions,\n",
    "    title='Метрики для модели случайного леса:'\n",
    ")"
   ]
  }
 ],
 "metadata": {
  "kernelspec": {
   "display_name": "Python 3 (ipykernel)",
   "language": "python",
   "name": "python3"
  },
  "language_info": {
   "codemirror_mode": {
    "name": "ipython",
    "version": 3
   },
   "file_extension": ".py",
   "mimetype": "text/x-python",
   "name": "python",
   "nbconvert_exporter": "python",
   "pygments_lexer": "ipython3",
   "version": "3.9.7"
  }
 },
 "nbformat": 4,
 "nbformat_minor": 5
}
