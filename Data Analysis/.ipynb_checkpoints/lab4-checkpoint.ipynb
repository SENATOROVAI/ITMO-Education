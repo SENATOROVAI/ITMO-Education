{
 "cells": [
  {
   "cell_type": "markdown",
   "id": "275be85e",
   "metadata": {},
   "source": [
    "# Импорт библиотек"
   ]
  },
  {
   "cell_type": "code",
   "execution_count": 1,
   "id": "68f22894",
   "metadata": {},
   "outputs": [],
   "source": [
    "import warnings \n",
    "warnings.filterwarnings('ignore')\n",
    "\n",
    "import pandas as pd \n",
    "from IPython.display import display\n",
    "import numpy as np\n",
    "import matplotlib.pyplot as plt\n",
    "from scipy import stats as st\n",
    "import seaborn as sns\n",
    "import datetime\n",
    "\n",
    "from sklearn.model_selection import train_test_split\n",
    "from sklearn.model_selection import train_test_split\n",
    "from sklearn.linear_model import LogisticRegression\n",
    "from sklearn.ensemble import RandomForestClassifier\n",
    "from sklearn.metrics import accuracy_score, precision_score, recall_score,f1_score\n",
    "from sklearn.preprocessing import StandardScaler\n",
    "from sklearn.cluster import KMeans\n",
    "from scipy.cluster.hierarchy import dendrogram, linkage\n",
    "from sklearn.metrics import silhouette_score"
   ]
  },
  {
   "cell_type": "markdown",
   "id": "20374e76",
   "metadata": {},
   "source": [
    "# Предобработка данных\n",
    "\n",
    "Для выполнения задания возьмем датасет *NBA 2k20 player dataset* и изучим основную информацию о нем"
   ]
  },
  {
   "cell_type": "code",
   "execution_count": 2,
   "id": "0b53f3c2",
   "metadata": {},
   "outputs": [
    {
     "data": {
      "text/html": [
       "<div>\n",
       "<style scoped>\n",
       "    .dataframe tbody tr th:only-of-type {\n",
       "        vertical-align: middle;\n",
       "    }\n",
       "\n",
       "    .dataframe tbody tr th {\n",
       "        vertical-align: top;\n",
       "    }\n",
       "\n",
       "    .dataframe thead th {\n",
       "        text-align: right;\n",
       "    }\n",
       "</style>\n",
       "<table border=\"1\" class=\"dataframe\">\n",
       "  <thead>\n",
       "    <tr style=\"text-align: right;\">\n",
       "      <th></th>\n",
       "      <th>full_name</th>\n",
       "      <th>rating</th>\n",
       "      <th>jersey</th>\n",
       "      <th>team</th>\n",
       "      <th>position</th>\n",
       "      <th>b_day</th>\n",
       "      <th>height</th>\n",
       "      <th>weight</th>\n",
       "      <th>salary</th>\n",
       "      <th>country</th>\n",
       "      <th>draft_year</th>\n",
       "      <th>draft_round</th>\n",
       "      <th>draft_peak</th>\n",
       "      <th>college</th>\n",
       "      <th>version</th>\n",
       "    </tr>\n",
       "  </thead>\n",
       "  <tbody>\n",
       "    <tr>\n",
       "      <th>0</th>\n",
       "      <td>LeBron James</td>\n",
       "      <td>97</td>\n",
       "      <td>#23</td>\n",
       "      <td>Los Angeles Lakers</td>\n",
       "      <td>F</td>\n",
       "      <td>12/30/84</td>\n",
       "      <td>6-9 / 2.06</td>\n",
       "      <td>250 lbs. / 113.4 kg.</td>\n",
       "      <td>$37436858</td>\n",
       "      <td>USA</td>\n",
       "      <td>2003</td>\n",
       "      <td>1</td>\n",
       "      <td>1</td>\n",
       "      <td>NaN</td>\n",
       "      <td>NBA2k20</td>\n",
       "    </tr>\n",
       "    <tr>\n",
       "      <th>1</th>\n",
       "      <td>Kawhi Leonard</td>\n",
       "      <td>97</td>\n",
       "      <td>#2</td>\n",
       "      <td>Los Angeles Clippers</td>\n",
       "      <td>F</td>\n",
       "      <td>06/29/91</td>\n",
       "      <td>6-7 / 2.01</td>\n",
       "      <td>225 lbs. / 102.1 kg.</td>\n",
       "      <td>$32742000</td>\n",
       "      <td>USA</td>\n",
       "      <td>2011</td>\n",
       "      <td>1</td>\n",
       "      <td>15</td>\n",
       "      <td>San Diego State</td>\n",
       "      <td>NBA2k20</td>\n",
       "    </tr>\n",
       "    <tr>\n",
       "      <th>2</th>\n",
       "      <td>Giannis Antetokounmpo</td>\n",
       "      <td>96</td>\n",
       "      <td>#34</td>\n",
       "      <td>Milwaukee Bucks</td>\n",
       "      <td>F-G</td>\n",
       "      <td>12/06/94</td>\n",
       "      <td>6-11 / 2.11</td>\n",
       "      <td>242 lbs. / 109.8 kg.</td>\n",
       "      <td>$25842697</td>\n",
       "      <td>Greece</td>\n",
       "      <td>2013</td>\n",
       "      <td>1</td>\n",
       "      <td>15</td>\n",
       "      <td>NaN</td>\n",
       "      <td>NBA2k20</td>\n",
       "    </tr>\n",
       "    <tr>\n",
       "      <th>3</th>\n",
       "      <td>Kevin Durant</td>\n",
       "      <td>96</td>\n",
       "      <td>#7</td>\n",
       "      <td>Brooklyn Nets</td>\n",
       "      <td>F</td>\n",
       "      <td>09/29/88</td>\n",
       "      <td>6-10 / 2.08</td>\n",
       "      <td>230 lbs. / 104.3 kg.</td>\n",
       "      <td>$37199000</td>\n",
       "      <td>USA</td>\n",
       "      <td>2007</td>\n",
       "      <td>1</td>\n",
       "      <td>2</td>\n",
       "      <td>Texas</td>\n",
       "      <td>NBA2k20</td>\n",
       "    </tr>\n",
       "    <tr>\n",
       "      <th>4</th>\n",
       "      <td>James Harden</td>\n",
       "      <td>96</td>\n",
       "      <td>#13</td>\n",
       "      <td>Houston Rockets</td>\n",
       "      <td>G</td>\n",
       "      <td>08/26/89</td>\n",
       "      <td>6-5 / 1.96</td>\n",
       "      <td>220 lbs. / 99.8 kg.</td>\n",
       "      <td>$38199000</td>\n",
       "      <td>USA</td>\n",
       "      <td>2009</td>\n",
       "      <td>1</td>\n",
       "      <td>3</td>\n",
       "      <td>Arizona State</td>\n",
       "      <td>NBA2k20</td>\n",
       "    </tr>\n",
       "  </tbody>\n",
       "</table>\n",
       "</div>"
      ],
      "text/plain": [
       "               full_name  rating jersey                  team position  \\\n",
       "0           LeBron James      97    #23    Los Angeles Lakers        F   \n",
       "1          Kawhi Leonard      97     #2  Los Angeles Clippers        F   \n",
       "2  Giannis Antetokounmpo      96    #34       Milwaukee Bucks      F-G   \n",
       "3           Kevin Durant      96     #7         Brooklyn Nets        F   \n",
       "4           James Harden      96    #13       Houston Rockets        G   \n",
       "\n",
       "      b_day       height                weight     salary country  draft_year  \\\n",
       "0  12/30/84   6-9 / 2.06  250 lbs. / 113.4 kg.  $37436858     USA        2003   \n",
       "1  06/29/91   6-7 / 2.01  225 lbs. / 102.1 kg.  $32742000     USA        2011   \n",
       "2  12/06/94  6-11 / 2.11  242 lbs. / 109.8 kg.  $25842697  Greece        2013   \n",
       "3  09/29/88  6-10 / 2.08  230 lbs. / 104.3 kg.  $37199000     USA        2007   \n",
       "4  08/26/89   6-5 / 1.96   220 lbs. / 99.8 kg.  $38199000     USA        2009   \n",
       "\n",
       "  draft_round draft_peak          college  version  \n",
       "0           1          1              NaN  NBA2k20  \n",
       "1           1         15  San Diego State  NBA2k20  \n",
       "2           1         15              NaN  NBA2k20  \n",
       "3           1          2            Texas  NBA2k20  \n",
       "4           1          3    Arizona State  NBA2k20  "
      ]
     },
     "execution_count": 2,
     "metadata": {},
     "output_type": "execute_result"
    }
   ],
   "source": [
    "df = pd.read_csv('nba2k-full.csv')\n",
    "df.head()"
   ]
  },
  {
   "cell_type": "markdown",
   "id": "63f05d68",
   "metadata": {},
   "source": [
    "Информация о датасете"
   ]
  },
  {
   "cell_type": "code",
   "execution_count": 3,
   "id": "0f3f2c49",
   "metadata": {},
   "outputs": [
    {
     "data": {
      "text/plain": [
       "(439, 15)"
      ]
     },
     "execution_count": 3,
     "metadata": {},
     "output_type": "execute_result"
    }
   ],
   "source": [
    "df.shape"
   ]
  },
  {
   "cell_type": "code",
   "execution_count": 4,
   "id": "58c348ce",
   "metadata": {},
   "outputs": [
    {
     "name": "stdout",
     "output_type": "stream",
     "text": [
      "<class 'pandas.core.frame.DataFrame'>\n",
      "RangeIndex: 439 entries, 0 to 438\n",
      "Data columns (total 15 columns):\n",
      " #   Column       Non-Null Count  Dtype \n",
      "---  ------       --------------  ----- \n",
      " 0   full_name    439 non-null    object\n",
      " 1   rating       439 non-null    int64 \n",
      " 2   jersey       439 non-null    object\n",
      " 3   team         416 non-null    object\n",
      " 4   position     439 non-null    object\n",
      " 5   b_day        439 non-null    object\n",
      " 6   height       439 non-null    object\n",
      " 7   weight       439 non-null    object\n",
      " 8   salary       439 non-null    object\n",
      " 9   country      439 non-null    object\n",
      " 10  draft_year   439 non-null    int64 \n",
      " 11  draft_round  439 non-null    object\n",
      " 12  draft_peak   439 non-null    object\n",
      " 13  college      370 non-null    object\n",
      " 14  version      439 non-null    object\n",
      "dtypes: int64(2), object(13)\n",
      "memory usage: 51.6+ KB\n"
     ]
    }
   ],
   "source": [
    "df.info()"
   ]
  },
  {
   "cell_type": "markdown",
   "id": "99580746",
   "metadata": {},
   "source": [
    "Устраним пропуски"
   ]
  },
  {
   "cell_type": "code",
   "execution_count": 5,
   "id": "3269dc74",
   "metadata": {},
   "outputs": [],
   "source": [
    "df['team'] = df['team'].fillna('not specified')\n",
    "df['college'] = df['college'].fillna('not specified')"
   ]
  },
  {
   "cell_type": "markdown",
   "id": "5c4ebd85",
   "metadata": {},
   "source": [
    "Преобразуем данные в столбцах: уберем знак доллар в зарплатах, рост и вес приведем к чесленному формату, измеряя рост в метрах, а вес в кг"
   ]
  },
  {
   "cell_type": "code",
   "execution_count": 6,
   "id": "45c0b391",
   "metadata": {},
   "outputs": [
    {
     "name": "stdout",
     "output_type": "stream",
     "text": [
      "<class 'pandas.core.frame.DataFrame'>\n",
      "RangeIndex: 439 entries, 0 to 438\n",
      "Data columns (total 18 columns):\n",
      " #   Column          Non-Null Count  Dtype         \n",
      "---  ------          --------------  -----         \n",
      " 0   full_name       439 non-null    object        \n",
      " 1   rating          439 non-null    int64         \n",
      " 2   jersey          439 non-null    object        \n",
      " 3   team            439 non-null    object        \n",
      " 4   position        439 non-null    object        \n",
      " 5   b_day           439 non-null    datetime64[ns]\n",
      " 6   height          439 non-null    object        \n",
      " 7   weight          439 non-null    object        \n",
      " 8   salary          439 non-null    object        \n",
      " 9   country         439 non-null    object        \n",
      " 10  draft_year      439 non-null    int64         \n",
      " 11  draft_round     439 non-null    object        \n",
      " 12  draft_peak      439 non-null    object        \n",
      " 13  college         439 non-null    object        \n",
      " 14  version         439 non-null    object        \n",
      " 15  height_meters   439 non-null    float64       \n",
      " 16  weight_kg       439 non-null    float64       \n",
      " 17  salary_dollars  439 non-null    int64         \n",
      "dtypes: datetime64[ns](1), float64(2), int64(3), object(12)\n",
      "memory usage: 61.9+ KB\n"
     ]
    }
   ],
   "source": [
    "for i in range(df.shape[0]):         # обработка даты рождения\n",
    "    s = df['b_day'][i]\n",
    "    if s[6] == '0' or s[6] == '1' or s[6] == '2':\n",
    "        s = s[0:6] + '20' + s[6:8]\n",
    "    else:\n",
    "        s = s[0:6] + '19' + s[6:8]\n",
    "    df['b_day'][i] = s\n",
    "    s = ''\n",
    "df['b_day'] = pd.to_datetime(df['b_day'], format='%m/%d/%Y')\n",
    "\n",
    "df['height_meters'] = float(0)  #обработка роста\n",
    "for i in range(len(df['height'])):\n",
    "    s = df['height'][i].split('/')\n",
    "    df['height_meters'][i] = float(s[1])\n",
    "    s = ''\n",
    "\n",
    "df['weight_kg'] = float(0)  #обработка веса\n",
    "for i in range(len(df['weight'])):\n",
    "    s = df['weight'][i].split('/')\n",
    "    s1 = s[1].split()\n",
    "    df['weight_kg'][i] = float(s1[0])\n",
    "    s = ''\n",
    "    s1 = ''\n",
    "\n",
    "df['salary_dollars'] = int(0)  #обработка зарплаты\n",
    "for i in range(len(df['salary'])):\n",
    "    s = df['salary'][i]\n",
    "    df['salary_dollars'][i] = int(s[1:])\n",
    "    s = ''    \n",
    "    \n",
    "df.info()"
   ]
  },
  {
   "cell_type": "markdown",
   "id": "c0348aa6",
   "metadata": {},
   "source": [
    "# Дискретизируем признак\n",
    "\n",
    "Разобъем зарплаты на равные группы и создадим столбец *salary_group*, где группы будут распределены следующим образом:\n",
    "- 1: низкая\n",
    "- 2: высокая"
   ]
  },
  {
   "cell_type": "code",
   "execution_count": 7,
   "id": "9ba828be",
   "metadata": {},
   "outputs": [],
   "source": [
    "df['salary_group'] = pd.qcut(df['salary_dollars'], \n",
    "                             2, \n",
    "                             [1,2])"
   ]
  },
  {
   "cell_type": "markdown",
   "id": "dce52173",
   "metadata": {},
   "source": [
    "# Выделим признаки для предсказания\n",
    "\n",
    "Что предсказываем: группу зараплаты\n",
    "\n",
    "Оставим в датафрейме: рейтинг, рост, вес, год драфта"
   ]
  },
  {
   "cell_type": "code",
   "execution_count": 8,
   "id": "bc212781",
   "metadata": {},
   "outputs": [],
   "source": [
    "X = df.copy(deep=True)\n",
    "X = X.drop(['full_name', 'jersey', 'team', \n",
    "                   'position', 'b_day','height', 'salary', \n",
    "                   'country', 'draft_round', 'draft_peak', \n",
    "                   'college', 'salary_group', 'weight', 'version'], axis=1).values.tolist()\n",
    "y = list(df['salary_group'])"
   ]
  },
  {
   "cell_type": "markdown",
   "id": "360d5bd5",
   "metadata": {},
   "source": [
    "Обучение модели, сперва разобъем на тренировочную и валидационную части"
   ]
  },
  {
   "cell_type": "code",
   "execution_count": 9,
   "id": "8eb5a4af",
   "metadata": {},
   "outputs": [],
   "source": [
    "X_train, X_test, y_train, y_test = train_test_split(X, y, test_size=0.2, random_state=0)"
   ]
  },
  {
   "cell_type": "markdown",
   "id": "0999c209",
   "metadata": {},
   "source": [
    "Выберем модель случайного леса"
   ]
  },
  {
   "cell_type": "code",
   "execution_count": 10,
   "id": "71726df9",
   "metadata": {},
   "outputs": [],
   "source": [
    "rf_model = RandomForestClassifier() \n",
    "rf_model.fit(X_train, y_train)\n",
    "rf_predictions = rf_model.predict(X_test)"
   ]
  },
  {
   "cell_type": "markdown",
   "id": "a211d172",
   "metadata": {},
   "source": [
    "# Проверим нормальность количественного признака\n",
    "\n",
    "Проверим рост на нормальность распределения"
   ]
  },
  {
   "cell_type": "code",
   "execution_count": 11,
   "id": "c9ad9d4f",
   "metadata": {},
   "outputs": [
    {
     "data": {
      "text/plain": [
       "NormaltestResult(statistic=5.62618509546723, pvalue=0.060019093178853275)"
      ]
     },
     "execution_count": 11,
     "metadata": {},
     "output_type": "execute_result"
    }
   ],
   "source": [
    "st.normaltest(df['height_meters'])"
   ]
  },
  {
   "cell_type": "markdown",
   "id": "24fb5f0d",
   "metadata": {},
   "source": [
    "Построим гистограмму"
   ]
  },
  {
   "cell_type": "code",
   "execution_count": 12,
   "id": "55b91cb5",
   "metadata": {},
   "outputs": [
    {
     "data": {
      "text/plain": [
       "<AxesSubplot:>"
      ]
     },
     "execution_count": 12,
     "metadata": {},
     "output_type": "execute_result"
    },
    {
     "data": {
      "image/png": "[encoded data removed]",
      "text/plain": [
       "<Figure size 432x288 with 1 Axes>"
      ]
     },
     "metadata": {
      "needs_background": "light"
     },
     "output_type": "display_data"
    }
   ],
   "source": [
    "df['height_meters'].hist()"
   ]
  },
  {
   "cell_type": "markdown",
   "id": "87e9f8b6",
   "metadata": {},
   "source": [
    "Данные немного скошены, но в целом имеют вид нормального распределения"
   ]
  },
  {
   "cell_type": "markdown",
   "id": "9b686893",
   "metadata": {},
   "source": [
    "# Метрики проверки качества предсказаний модели"
   ]
  },
  {
   "cell_type": "code",
   "execution_count": 13,
   "id": "da396834",
   "metadata": {},
   "outputs": [
    {
     "name": "stdout",
     "output_type": "stream",
     "text": [
      "Метрики для модели случайного леса:\n",
      "\tAccuracy: 0.98864\n",
      "\tPrecision: 1.00000\n",
      "\tRecall: 0.97778\n",
      "\tF1: 0.98876\n"
     ]
    }
   ],
   "source": [
    "def print_all_metrics(y_true, y_pred, title='Метрики классификации'):\n",
    "    print(title)\n",
    "    print('\\tAccuracy: {:.5f}'.format(accuracy_score(y_true, y_pred)))\n",
    "    print('\\tPrecision: {:.5f}'.format(precision_score(y_true, y_pred)))\n",
    "    print('\\tRecall: {:.5f}'.format(recall_score(y_true, y_pred)))\n",
    "    print('\\tF1: {:.5f}'.format(f1_score(y_true, y_pred)))\n",
    "\n",
    "print_all_metrics(\n",
    "    y_test,\n",
    "    rf_predictions,\n",
    "    title='Метрики для модели случайного леса:'\n",
    ")"
   ]
  }
 ],
 "metadata": {
  "kernelspec": {
   "display_name": "Python 3 (ipykernel)",
   "language": "python",
   "name": "python3"
  },
  "language_info": {
   "codemirror_mode": {
    "name": "ipython",
    "version": 3
   },
   "file_extension": ".py",
   "mimetype": "text/x-python",
   "name": "python",
   "nbconvert_exporter": "python",
   "pygments_lexer": "ipython3",
   "version": "3.9.5"
  }
 },
 "nbformat": 4,
 "nbformat_minor": 5
}
